{
 "cells": [
  {
   "cell_type": "code",
   "execution_count": 1,
   "metadata": {},
   "outputs": [],
   "source": [
    "import numpy as np"
   ]
  },
  {
   "cell_type": "markdown",
   "metadata": {},
   "source": [
    "$\\mathcal{L}_{adv} = - \\sum_i \\log(D(G(x_i)))$\n",
    "\n",
    "Let $D(G(x_i) = z$ Since the output of D does not yet have softmax applied, we can rewrite as:\n",
    "\n",
    "$\\mathcal{L}_{adv} = - \\sum_i [\\log(\\frac{e^{z_i}}{\\sum_j e^{z_j}})]$\n",
    "\n",
    "$\\mathcal{L}_{adv} = - \\sum_i [\\log(e^{z_i}) - \\log(\\sum_j e^{z_j})]$\n",
    "\n",
    "$\\mathcal{L}_{adv} = - \\sum_i [z_i - \\log(\\sum_j e^{z_j - c}e^c)]$\n",
    "\n",
    "$\\mathcal{L}_{adv} = - \\sum_i [z_i - \\log(e^c\\sum_j e^{z_j-c})]$\n",
    "\n",
    "$\\mathcal{L}_{adv} = - \\sum_i [z_i - \\log(e^c) - \\log(\\sum_j e^{z_j-c})]$\n",
    "\n",
    "$\\mathcal{L}_{adv} = - \\sum_i [z_i - c - \\log(\\sum_j e^{z_j-c})]$\n",
    "\n",
    "Since $e^{z_j-c}$ is guaranteed to be positive, $\\log(\\sum_j e^{z_j-c})$ is numerically stable. Choose c to be max(z) to prevent overflow.\n",
    "\n",
    "In pytorch, we can rewrite as: $\\mathcal{L}_{adv} = - $ torch.sum( nn.logSoftmax(D(G(x))) )"
   ]
  },
  {
   "cell_type": "markdown",
   "metadata": {},
   "source": [
    "$\\mathcal{L}_{discr}  = -\\sum_i \\log(D(y_i)) +\\log (1-D(G(x_i)))$ where $y_i$ is the true image and $x_i = E(y_i)$\n",
    "\n",
    "From the above result we can rewrite as:\n",
    "\n",
    "$\\mathcal{L}_{discr}  = -\\sum_i \\text{nn.logSoftmax}(D(y_i)) + \\log (1-D(G(x_i)))$\n",
    "\n",
    "Let $D(G(x_i) = z$ Since the output of D does not yet have softmax applied, we can rewrite as:\n",
    "\n",
    "$\\mathcal{L}_{discr}  = -\\sum_i [\\text{nn.logSoftmax}(D(y_i)) + \\log (1-\\frac{e^{z_i}}{\\sum_j e^{z_j}}) ]$\n",
    "\n",
    "$\\mathcal{L}_{discr}  = -\\sum_i [\\text{nn.logSoftmax}(D(y_i)) + \\log (1-\\frac{e^{z_i-c}}{\\sum_j e^{z_j-c}}) ]$\n",
    "\n",
    "$\\mathcal{L}_{discr}  = -\\sum_i [\\text{nn.logSoftmax}(D(y_i)) + \\log (\\frac{\\sum_j e^{z_j-c}-e^{z_i-c}}{\\sum_j e^{z_j-c}}) ]$\n",
    "\n",
    "$\\mathcal{L}_{discr}  = -\\sum_i [\\text{nn.logSoftmax}(D(y_i)) + \\log (\\sum_j e^{z_j-c}-e^{z_i-c}) - \\log (\\sum_j e^{z_j-c}) ]$\n",
    "\n"
   ]
  },
  {
   "cell_type": "code",
   "execution_count": null,
   "metadata": {},
   "outputs": [],
   "source": []
  }
 ],
 "metadata": {
  "kernelspec": {
   "display_name": "Python 3",
   "language": "python",
   "name": "python3"
  },
  "language_info": {
   "codemirror_mode": {
    "name": "ipython",
    "version": 3
   },
   "file_extension": ".py",
   "mimetype": "text/x-python",
   "name": "python",
   "nbconvert_exporter": "python",
   "pygments_lexer": "ipython3",
   "version": "3.6.9"
  }
 },
 "nbformat": 4,
 "nbformat_minor": 2
}
